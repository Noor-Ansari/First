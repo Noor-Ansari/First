{
  "nbformat": 4,
  "nbformat_minor": 0,
  "metadata": {
    "kernelspec": {
      "display_name": "Python 3",
      "language": "python",
      "name": "python3"
    },
    "language_info": {
      "codemirror_mode": {
        "name": "ipython",
        "version": 3
      },
      "file_extension": ".py",
      "mimetype": "text/x-python",
      "name": "python",
      "nbconvert_exporter": "python",
      "pygments_lexer": "ipython3",
      "version": "3.8.3"
    },
    "colab": {
      "name": "mnist fashion.ipynb",
      "provenance": [],
      "collapsed_sections": []
    }
  },
  "cells": [
    {
      "cell_type": "markdown",
      "metadata": {
        "id": "lWxFrZBSqBaN"
      },
      "source": [
        "# **A simple nueral network for multiclass classification problem on mnist fashion dataset, which contains 10 classes ('T-shirt/top', 'Trouser', 'Pullover', 'Dress', 'Coat', 'Sandal', 'Shirt', 'Sneaker', 'Bag', 'Ankle boot').**"
      ]
    },
    {
      "cell_type": "code",
      "metadata": {
        "id": "J_mbfyd_lOsI"
      },
      "source": [
        "# import essential libraries\n",
        "\n",
        "import numpy as np \n",
        "import matplotlib.pyplot as plt\n",
        "import tensorflow as tf \n",
        "from tensorflow import keras"
      ],
      "execution_count": 27,
      "outputs": []
    },
    {
      "cell_type": "code",
      "metadata": {
        "id": "OkhoKVHZlOsZ"
      },
      "source": [
        "# load the data\r\n",
        "data = keras.datasets.fashion_mnist"
      ],
      "execution_count": 28,
      "outputs": []
    },
    {
      "cell_type": "code",
      "metadata": {
        "id": "gI3vRMI4lOsc"
      },
      "source": [
        "# split the data for training and testing\r\n",
        "(train_images, train_labels), (test_images, test_labels) = data.load_data()"
      ],
      "execution_count": 29,
      "outputs": []
    },
    {
      "cell_type": "code",
      "metadata": {
        "colab": {
          "base_uri": "https://localhost:8080/"
        },
        "id": "L101ZSY0lOse",
        "outputId": "a1799698-f01b-42c4-f8cf-707de109cbd3"
      },
      "source": [
        "# check the shape of the data\r\n",
        "train_images.shape, train_labels.shape, test_images.shape, test_labels.shape"
      ],
      "execution_count": null,
      "outputs": [
        {
          "output_type": "execute_result",
          "data": {
            "text/plain": [
              "((60000, 28, 28), (60000,), (10000, 28, 28), (10000,))"
            ]
          },
          "metadata": {
            "tags": []
          },
          "execution_count": 5
        }
      ]
    },
    {
      "cell_type": "code",
      "metadata": {
        "id": "uIhPFECzlOsj"
      },
      "source": [
        "# Normalize the data\n",
        "\n",
        "train_images = train_images/255.0\n",
        "test_images = test_images/255.0"
      ],
      "execution_count": null,
      "outputs": []
    },
    {
      "cell_type": "code",
      "metadata": {
        "id": "y7XHc19pl7CR"
      },
      "source": [
        ""
      ],
      "execution_count": null,
      "outputs": []
    },
    {
      "cell_type": "code",
      "metadata": {
        "scrolled": true,
        "id": "Kj354ZhnlOsk"
      },
      "source": [
        "# model structure \n",
        "model = keras.Sequential([\n",
        "        keras.layers.Flatten(input_shape=(28,28)), # to flatten the input data 28X28 = 784\n",
        "        keras.layers.Dense(128, activation=\"relu\"),\n",
        "        keras.layers.Dropout(0.3),\n",
        "        keras.layers.Dense(54, activation=\"relu\"),\n",
        "        keras.layers.Dropout(0.3),\n",
        "        keras.layers.Dense(10, activation=\"softmax\")])"
      ],
      "execution_count": null,
      "outputs": []
    },
    {
      "cell_type": "code",
      "metadata": {
        "colab": {
          "base_uri": "https://localhost:8080/"
        },
        "id": "uC8HY1KenbRK",
        "outputId": "ed08bde5-6272-4a75-e4d3-009dad87ddf8"
      },
      "source": [
        "# compile the model\r\n",
        "model.compile(loss=\"sparse_categorical_crossentropy\", optimizer=\"adam\", metrics=[\"accuracy\"])\r\n",
        "\r\n",
        "# Now train the model on training data\r\n",
        "model.fit(train_images, train_labels, epochs=30, batch_size=264)"
      ],
      "execution_count": null,
      "outputs": [
        {
          "output_type": "stream",
          "text": [
            "Epoch 1/30\n",
            "228/228 [==============================] - 1s 6ms/step - loss: 0.8294 - accuracy: 0.7134\n",
            "Epoch 2/30\n",
            "228/228 [==============================] - 1s 6ms/step - loss: 0.5191 - accuracy: 0.8186\n",
            "Epoch 3/30\n",
            "228/228 [==============================] - 2s 7ms/step - loss: 0.4620 - accuracy: 0.8399\n",
            "Epoch 4/30\n",
            "228/228 [==============================] - 1s 6ms/step - loss: 0.4304 - accuracy: 0.8486\n",
            "Epoch 5/30\n",
            "228/228 [==============================] - 1s 6ms/step - loss: 0.4091 - accuracy: 0.8550\n",
            "Epoch 6/30\n",
            "228/228 [==============================] - 1s 6ms/step - loss: 0.3930 - accuracy: 0.8609\n",
            "Epoch 7/30\n",
            "228/228 [==============================] - 1s 6ms/step - loss: 0.3806 - accuracy: 0.8630\n",
            "Epoch 8/30\n",
            "228/228 [==============================] - 1s 6ms/step - loss: 0.3695 - accuracy: 0.8680\n",
            "Epoch 9/30\n",
            "228/228 [==============================] - 1s 6ms/step - loss: 0.3572 - accuracy: 0.8726\n",
            "Epoch 10/30\n",
            "228/228 [==============================] - 1s 6ms/step - loss: 0.3476 - accuracy: 0.8756\n",
            "Epoch 11/30\n",
            "228/228 [==============================] - 1s 6ms/step - loss: 0.3452 - accuracy: 0.8761\n",
            "Epoch 12/30\n",
            "228/228 [==============================] - 1s 6ms/step - loss: 0.3394 - accuracy: 0.8769\n",
            "Epoch 13/30\n",
            "228/228 [==============================] - 1s 7ms/step - loss: 0.3321 - accuracy: 0.8808\n",
            "Epoch 14/30\n",
            "228/228 [==============================] - 1s 6ms/step - loss: 0.3271 - accuracy: 0.8800\n",
            "Epoch 15/30\n",
            "228/228 [==============================] - 1s 6ms/step - loss: 0.3229 - accuracy: 0.8834\n",
            "Epoch 16/30\n",
            "228/228 [==============================] - 1s 6ms/step - loss: 0.3219 - accuracy: 0.8834\n",
            "Epoch 17/30\n",
            "228/228 [==============================] - 1s 6ms/step - loss: 0.3118 - accuracy: 0.8871\n",
            "Epoch 18/30\n",
            "228/228 [==============================] - 1s 6ms/step - loss: 0.3104 - accuracy: 0.8868\n",
            "Epoch 19/30\n",
            "228/228 [==============================] - 1s 6ms/step - loss: 0.3083 - accuracy: 0.8872\n",
            "Epoch 20/30\n",
            "228/228 [==============================] - 1s 6ms/step - loss: 0.3050 - accuracy: 0.8893\n",
            "Epoch 21/30\n",
            "228/228 [==============================] - 1s 6ms/step - loss: 0.2979 - accuracy: 0.8911\n",
            "Epoch 22/30\n",
            "228/228 [==============================] - 1s 6ms/step - loss: 0.2977 - accuracy: 0.8916\n",
            "Epoch 23/30\n",
            "228/228 [==============================] - 1s 6ms/step - loss: 0.2930 - accuracy: 0.8924\n",
            "Epoch 24/30\n",
            "228/228 [==============================] - 1s 6ms/step - loss: 0.2893 - accuracy: 0.8953\n",
            "Epoch 25/30\n",
            "228/228 [==============================] - 1s 6ms/step - loss: 0.2845 - accuracy: 0.8962\n",
            "Epoch 26/30\n",
            "228/228 [==============================] - 1s 6ms/step - loss: 0.2835 - accuracy: 0.8952\n",
            "Epoch 27/30\n",
            "228/228 [==============================] - 1s 6ms/step - loss: 0.2844 - accuracy: 0.8963\n",
            "Epoch 28/30\n",
            "228/228 [==============================] - 1s 6ms/step - loss: 0.2804 - accuracy: 0.8969\n",
            "Epoch 29/30\n",
            "228/228 [==============================] - 1s 6ms/step - loss: 0.2767 - accuracy: 0.8977\n",
            "Epoch 30/30\n",
            "228/228 [==============================] - 1s 6ms/step - loss: 0.2762 - accuracy: 0.8986\n"
          ],
          "name": "stdout"
        },
        {
          "output_type": "execute_result",
          "data": {
            "text/plain": [
              "<tensorflow.python.keras.callbacks.History at 0x7f32e6c72780>"
            ]
          },
          "metadata": {
            "tags": []
          },
          "execution_count": 15
        }
      ]
    },
    {
      "cell_type": "code",
      "metadata": {
        "colab": {
          "base_uri": "https://localhost:8080/"
        },
        "id": "c4Bfo4ONlOsn",
        "outputId": "404aaa91-c7cd-4a66-ccde-0fbb40e4d351"
      },
      "source": [
        "# model evaluation\n",
        "\n",
        "(loss, accuracy) = model.evaluate(test_images, test_labels)\n",
        "print(\"Accuracy :-\", accuracy*100)\n",
        "print(\"Loss :-\", loss)"
      ],
      "execution_count": null,
      "outputs": [
        {
          "output_type": "stream",
          "text": [
            "313/313 [==============================] - 0s 1ms/step - loss: 0.3379 - accuracy: 0.8802\n",
            "Accuracy :- 88.02000284194946\n",
            "Loss :- 0.33787545561790466\n"
          ],
          "name": "stdout"
        }
      ]
    },
    {
      "cell_type": "code",
      "metadata": {
        "colab": {
          "base_uri": "https://localhost:8080/"
        },
        "id": "MAiRnSyqlOsp",
        "outputId": "c9499d98-f669-4f52-ff8f-fbfbabddb8aa"
      },
      "source": [
        "# let store the test prediction in a variable\n",
        "\n",
        "y_pred = model.predict(test_images)\n",
        "y_pred = [np.argmax(x) for x in y_pred]\n",
        "y_pred[:10]"
      ],
      "execution_count": null,
      "outputs": [
        {
          "output_type": "execute_result",
          "data": {
            "text/plain": [
              "[9, 2, 1, 1, 6, 1, 4, 6, 5, 7]"
            ]
          },
          "metadata": {
            "tags": []
          },
          "execution_count": 20
        }
      ]
    },
    {
      "cell_type": "code",
      "metadata": {
        "id": "yux9jw5plOsr"
      },
      "source": [
        "# Create a list of all class labels\n",
        "\n",
        "class_name = ['T-shirt/top', 'Trouser', 'Pullover', 'Dress', 'Coat', 'Sandal', 'Shirt', 'Sneaker', 'Bag', 'Ankle boot']"
      ],
      "execution_count": null,
      "outputs": []
    },
    {
      "cell_type": "code",
      "metadata": {
        "colab": {
          "base_uri": "https://localhost:8080/",
          "height": 1000
        },
        "id": "_99Z0WKVlOst",
        "outputId": "8a16202a-287c-4025-81fc-c94a378e55b2"
      },
      "source": [
        "# visual prediction \n",
        "\n",
        "for i in range(160,166):\n",
        "    plt.figure(figsize=(8,5))\n",
        "    plt.imshow(test_images[i], cmap = plt.cm.binary)\n",
        "    plt.xlabel(\"Actual :-\" + class_name[test_labels[i]])\n",
        "    plt.title(\"Prediction :-\" + class_name[y_pred[i]])\n",
        "    plt.show()"
      ],
      "execution_count": null,
      "outputs": [
        {
          "output_type": "display_data",
          "data": {
            "image/png": "[encoded data removed]",
            "text/plain": [
              "<Figure size 576x360 with 1 Axes>"
            ]
          },
          "metadata": {
            "tags": [],
            "needs_background": "light"
          }
        },
        {
          "output_type": "display_data",
          "data": {
            "image/png": "[encoded data removed]",
            "text/plain": [
              "<Figure size 576x360 with 1 Axes>"
            ]
          },
          "metadata": {
            "tags": [],
            "needs_background": "light"
          }
        },
        {
          "output_type": "display_data",
          "data": {
            "image/png": "[encoded data removed]",
            "text/plain": [
              "<Figure size 576x360 with 1 Axes>"
            ]
          },
          "metadata": {
            "tags": [],
            "needs_background": "light"
          }
        },
        {
          "output_type": "display_data",
          "data": {
            "image/png": "[encoded data removed]",
            "text/plain": [
              "<Figure size 576x360 with 1 Axes>"
            ]
          },
          "metadata": {
            "tags": [],
            "needs_background": "light"
          }
        },
        {
          "output_type": "display_data",
          "data": {
            "image/png": "[encoded data removed]",
            "text/plain": [
              "<Figure size 576x360 with 1 Axes>"
            ]
          },
          "metadata": {
            "tags": [],
            "needs_background": "light"
          }
        },
        {
          "output_type": "display_data",
          "data": {
            "image/png": "[encoded data removed]",
            "text/plain": [
              "<Figure size 576x360 with 1 Axes>"
            ]
          },
          "metadata": {
            "tags": [],
            "needs_background": "light"
          }
        }
      ]
    },
    {
      "cell_type": "markdown",
      "metadata": {
        "id": "a_I-HvFxpv73"
      },
      "source": [
        "# **-----------------------------------Keep learning, Keep improving-----------------------------**"
      ]
    }
  ]
}