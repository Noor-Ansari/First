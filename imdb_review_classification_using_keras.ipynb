{
  "nbformat": 4,
  "nbformat_minor": 0,
  "metadata": {
    "kernelspec": {
      "display_name": "Python 3",
      "language": "python",
      "name": "python3"
    },
    "language_info": {
      "codemirror_mode": {
        "name": "ipython",
        "version": 3
      },
      "file_extension": ".py",
      "mimetype": "text/x-python",
      "name": "python",
      "nbconvert_exporter": "python",
      "pygments_lexer": "ipython3",
      "version": "3.8.3"
    },
    "colab": {
      "name": "imdb review using keras data.ipynb",
      "provenance": [],
      "collapsed_sections": []
    },
    "accelerator": "TPU"
  },
  "cells": [
    {
      "cell_type": "code",
      "metadata": {
        "id": "vAhg-RVGNale"
      },
      "source": [
        "# import essential libraries\n",
        "\n",
        "import numpy as np \n",
        "import tensorflow as tf \n",
        "from tensorflow import keras "
      ],
      "execution_count": 1,
      "outputs": []
    },
    {
      "cell_type": "code",
      "metadata": {
        "id": "Byc1QB6JNalt"
      },
      "source": [
        "# load the data from keras\r\n",
        "\r\n",
        "data = keras.datasets.imdb"
      ],
      "execution_count": 2,
      "outputs": []
    },
    {
      "cell_type": "code",
      "metadata": {
        "colab": {
          "base_uri": "https://localhost:8080/"
        },
        "id": "KeYNVVXzNalv",
        "outputId": "61ba9a73-ecdc-4f63-cf26-bd9471e602ca"
      },
      "source": [
        "# split the data for training and testing\r\n",
        "\r\n",
        "(train_data, train_labels), (test_data, test_labels) = data.load_data(num_words=10000)"
      ],
      "execution_count": 3,
      "outputs": [
        {
          "output_type": "stream",
          "text": [
            "Downloading data from https://storage.googleapis.com/tensorflow/tf-keras-datasets/imdb.npz\n",
            "17465344/17464789 [==============================] - 0s 0us/step\n"
          ],
          "name": "stdout"
        }
      ]
    },
    {
      "cell_type": "code",
      "metadata": {
        "colab": {
          "base_uri": "https://localhost:8080/"
        },
        "id": "7INL0lMANaly",
        "outputId": "302f61f7-2025-4fc8-90d5-b68452722a7f"
      },
      "source": [
        "# check shape of the data\r\n",
        "\r\n",
        "train_data.shape, train_labels.shape, test_data.shape, test_labels.shape"
      ],
      "execution_count": 4,
      "outputs": [
        {
          "output_type": "execute_result",
          "data": {
            "text/plain": [
              "((25000,), (25000,), (25000,), (25000,))"
            ]
          },
          "metadata": {
            "tags": []
          },
          "execution_count": 4
        }
      ]
    },
    {
      "cell_type": "code",
      "metadata": {
        "colab": {
          "base_uri": "https://localhost:8080/"
        },
        "id": "7d9hVFJzNal1",
        "outputId": "956c8d12-ed8f-4951-973c-d1510d324574"
      },
      "source": [
        "## get the mapping of each word  \n",
        "\n",
        "word_index = data.get_word_index()\n",
        "word_index = {k : (v+3) for k,v in word_index.items()}\n",
        "word_index[\"<PAD>\"] = 0\n",
        "word_index[\"<START>\"] = 1\n",
        "word_index[\"<UNK>\"] = 2\n",
        "word_index[\"<UNUSED>\"] = 3"
      ],
      "execution_count": 5,
      "outputs": [
        {
          "output_type": "stream",
          "text": [
            "Downloading data from https://storage.googleapis.com/tensorflow/tf-keras-datasets/imdb_word_index.json\n",
            "1646592/1641221 [==============================] - 0s 0us/step\n"
          ],
          "name": "stdout"
        }
      ]
    },
    {
      "cell_type": "code",
      "metadata": {
        "id": "sJTCL11pNal3"
      },
      "source": [
        "# Now let's reverse the keys and values because we had word as key and integer as value\n",
        "\n",
        "reversed_word_index = dict([(v, k) for k,v in word_index.items()])"
      ],
      "execution_count": 6,
      "outputs": []
    },
    {
      "cell_type": "code",
      "metadata": {
        "colab": {
          "base_uri": "https://localhost:8080/"
        },
        "id": "qHzNNAWdNal4",
        "outputId": "72b2a3f5-e5ad-442a-fc18-b9fc14badaf4"
      },
      "source": [
        "# create a decode function \n",
        "\n",
        "def decode_review(text):\n",
        "    return \" \".join([reversed_word_index.get(i, \"?\") for i in text])\n",
        "\n",
        "print(decode_review(test_data[10]))"
      ],
      "execution_count": 7,
      "outputs": [
        {
          "output_type": "stream",
          "text": [
            "<START> inspired by hitchcock's strangers on a train concept of two men <UNK> murders in exchange for getting rid of the two people messing up their lives throw <UNK> from the train is an original and very inventive comedy take on the idea it's a credit to danny <UNK> that he both wrote and starred in this minor comedy gem br br anne <UNK> is the mother who <UNK> the film's title and it's understandable why she gets under the skin of danny <UNK> with her sharp tongue and relentlessly putting him down for any minor <UNK> billy crystal is the writer who's wife has stolen his book idea and is now being <UNK> as a great new author even appearing on the oprah show to in <UNK> he should be enjoying thus <UNK> gets the idea of <UNK> murders to rid themselves of these <UNK> factors br br of course everything and anything can happen when writer carl <UNK> lets his imagination <UNK> with <UNK> ideas for how the plot develops and it's amusing all the way through providing plenty of laughs and chuckles along the way as well as a good deal of suspense br br for <UNK> of black comedy this one is guaranteed to please\n"
          ],
          "name": "stdout"
        }
      ]
    },
    {
      "cell_type": "code",
      "metadata": {
        "colab": {
          "base_uri": "https://localhost:8080/"
        },
        "id": "qe7lznWvNal6",
        "outputId": "69dc0c3d-3e30-4304-e12a-fc28d931631b"
      },
      "source": [
        "# The reviews are not of the same length so make the length of all reviews equal\n",
        "\n",
        "train_data = keras.preprocessing.sequence.pad_sequences(train_data, maxlen=256 ,value=word_index[\"<PAD>\"], padding=\"post\")\n",
        "test_data = keras.preprocessing.sequence.pad_sequences(test_data, maxlen=256 ,value=word_index[\"<PAD>\"], padding=\"post\")\n",
        "\n",
        "print(len(train_data[0]), len(test_data[10]))"
      ],
      "execution_count": 8,
      "outputs": [
        {
          "output_type": "stream",
          "text": [
            "256 256\n"
          ],
          "name": "stdout"
        }
      ]
    },
    {
      "cell_type": "code",
      "metadata": {
        "id": "yuTadGwhNal7"
      },
      "source": [
        "# Model structure\n",
        "\n",
        "model = keras.Sequential()\n",
        "model.add(keras.layers.Embedding(10000,32, input_length=256)) # embedding layer to create a vector of each word\n",
        "model.add(keras.layers.GlobalAveragePooling1D()) # take the average of the vector\n",
        "model.add(keras.layers.Dense(32, activation=\"relu\"))\n",
        "model.add(keras.layers.Dropout(0.5))\n",
        "model.add(keras.layers.Dense(16, activation=\"relu\"))\n",
        "model.add(keras.layers.Dropout(0.5))\n",
        "model.add(keras.layers.Dense(1,activation=\"sigmoid\"))\n",
        "\n",
        "model.compile(loss=\"binary_crossentropy\", optimizer=\"adam\", metrics=[\"accuracy\"])"
      ],
      "execution_count": 9,
      "outputs": []
    },
    {
      "cell_type": "code",
      "metadata": {
        "colab": {
          "base_uri": "https://localhost:8080/"
        },
        "id": "KF5qoVILNal8",
        "outputId": "c517bde5-6a59-4cd7-e6aa-d704385bad8c"
      },
      "source": [
        "# split the data for validation \n",
        "\n",
        "x_val = train_data[:10000]\n",
        "x_train = train_data[10000:]\n",
        "\n",
        "y_val = train_labels[:10000]\n",
        "y_train = train_labels[10000:]\n",
        "\n",
        "# fit the model\n",
        "model_fit = model.fit(x_train, y_train, validation_data=(x_val, y_val), batch_size=512, epochs=25, verbose=1)"
      ],
      "execution_count": 10,
      "outputs": [
        {
          "output_type": "stream",
          "text": [
            "Epoch 1/25\n",
            "30/30 [==============================] - 1s 32ms/step - loss: 0.6924 - accuracy: 0.5221 - val_loss: 0.6910 - val_accuracy: 0.5559\n",
            "Epoch 2/25\n",
            "30/30 [==============================] - 1s 26ms/step - loss: 0.6878 - accuracy: 0.5816 - val_loss: 0.6813 - val_accuracy: 0.7070\n",
            "Epoch 3/25\n",
            "30/30 [==============================] - 1s 27ms/step - loss: 0.6668 - accuracy: 0.6729 - val_loss: 0.6414 - val_accuracy: 0.7480\n",
            "Epoch 4/25\n",
            "30/30 [==============================] - 1s 26ms/step - loss: 0.6061 - accuracy: 0.7437 - val_loss: 0.5443 - val_accuracy: 0.8280\n",
            "Epoch 5/25\n",
            "30/30 [==============================] - 1s 26ms/step - loss: 0.5027 - accuracy: 0.8094 - val_loss: 0.4298 - val_accuracy: 0.8518\n",
            "Epoch 6/25\n",
            "30/30 [==============================] - 1s 27ms/step - loss: 0.4173 - accuracy: 0.8429 - val_loss: 0.3606 - val_accuracy: 0.8669\n",
            "Epoch 7/25\n",
            "30/30 [==============================] - 1s 27ms/step - loss: 0.3560 - accuracy: 0.8710 - val_loss: 0.3221 - val_accuracy: 0.8757\n",
            "Epoch 8/25\n",
            "30/30 [==============================] - 1s 27ms/step - loss: 0.3087 - accuracy: 0.8931 - val_loss: 0.3034 - val_accuracy: 0.8796\n",
            "Epoch 9/25\n",
            "30/30 [==============================] - 1s 27ms/step - loss: 0.2761 - accuracy: 0.9065 - val_loss: 0.2912 - val_accuracy: 0.8832\n",
            "Epoch 10/25\n",
            "30/30 [==============================] - 1s 28ms/step - loss: 0.2435 - accuracy: 0.9169 - val_loss: 0.2903 - val_accuracy: 0.8828\n",
            "Epoch 11/25\n",
            "30/30 [==============================] - 1s 28ms/step - loss: 0.2201 - accuracy: 0.9311 - val_loss: 0.2891 - val_accuracy: 0.8849\n",
            "Epoch 12/25\n",
            "30/30 [==============================] - 1s 27ms/step - loss: 0.1992 - accuracy: 0.9391 - val_loss: 0.2910 - val_accuracy: 0.8854\n",
            "Epoch 13/25\n",
            "30/30 [==============================] - 1s 28ms/step - loss: 0.1809 - accuracy: 0.9454 - val_loss: 0.2955 - val_accuracy: 0.8850\n",
            "Epoch 14/25\n",
            "30/30 [==============================] - 1s 28ms/step - loss: 0.1618 - accuracy: 0.9533 - val_loss: 0.3029 - val_accuracy: 0.8853\n",
            "Epoch 15/25\n",
            "30/30 [==============================] - 1s 28ms/step - loss: 0.1473 - accuracy: 0.9586 - val_loss: 0.3154 - val_accuracy: 0.8853\n",
            "Epoch 16/25\n",
            "30/30 [==============================] - 1s 30ms/step - loss: 0.1365 - accuracy: 0.9621 - val_loss: 0.3254 - val_accuracy: 0.8824\n",
            "Epoch 17/25\n",
            "30/30 [==============================] - 1s 35ms/step - loss: 0.1220 - accuracy: 0.9679 - val_loss: 0.3414 - val_accuracy: 0.8808\n",
            "Epoch 18/25\n",
            "30/30 [==============================] - 1s 46ms/step - loss: 0.1140 - accuracy: 0.9717 - val_loss: 0.3499 - val_accuracy: 0.8794\n",
            "Epoch 19/25\n",
            "30/30 [==============================] - 1s 46ms/step - loss: 0.1052 - accuracy: 0.9755 - val_loss: 0.3658 - val_accuracy: 0.8787\n",
            "Epoch 20/25\n",
            "30/30 [==============================] - 1s 46ms/step - loss: 0.0969 - accuracy: 0.9787 - val_loss: 0.3804 - val_accuracy: 0.8776\n",
            "Epoch 21/25\n",
            "30/30 [==============================] - 1s 45ms/step - loss: 0.0905 - accuracy: 0.9815 - val_loss: 0.3928 - val_accuracy: 0.8747\n",
            "Epoch 22/25\n",
            "30/30 [==============================] - 1s 45ms/step - loss: 0.0865 - accuracy: 0.9833 - val_loss: 0.4116 - val_accuracy: 0.8740\n",
            "Epoch 23/25\n",
            "30/30 [==============================] - 1s 45ms/step - loss: 0.0766 - accuracy: 0.9858 - val_loss: 0.4256 - val_accuracy: 0.8738\n",
            "Epoch 24/25\n",
            "30/30 [==============================] - 1s 47ms/step - loss: 0.0682 - accuracy: 0.9868 - val_loss: 0.4482 - val_accuracy: 0.8739\n",
            "Epoch 25/25\n",
            "30/30 [==============================] - 1s 46ms/step - loss: 0.0646 - accuracy: 0.9885 - val_loss: 0.4569 - val_accuracy: 0.8732\n"
          ],
          "name": "stdout"
        }
      ]
    },
    {
      "cell_type": "code",
      "metadata": {
        "colab": {
          "base_uri": "https://localhost:8080/"
        },
        "id": "Lip62iYyO7bp",
        "outputId": "c683611f-e385-4956-cd92-f72517e6b106"
      },
      "source": [
        "# model evaluation\r\n",
        "\r\n",
        "(loss, accuracy) = model.evaluate(test_data, test_labels)\r\n",
        "print(\"Loss :-\", loss)\r\n",
        "print(\"Accuacy :-\",accuracy)"
      ],
      "execution_count": 15,
      "outputs": [
        {
          "output_type": "stream",
          "text": [
            "782/782 [==============================] - 1s 1ms/step - loss: 0.4929 - accuracy: 0.8629\n",
            "Loss :- 0.49293139576911926\n",
            "Accuacy :- 0.8628799915313721\n"
          ],
          "name": "stdout"
        }
      ]
    },
    {
      "cell_type": "code",
      "metadata": {
        "colab": {
          "base_uri": "https://localhost:8080/"
        },
        "id": "vNjie68TP0Q5",
        "outputId": "9c0c2d71-06d5-46df-8d91-e957581f6056"
      },
      "source": [
        "# store the prediction in a variable and conversion in appropriate form\r\n",
        "\r\n",
        "y_pred = model.predict(test_data)\r\n",
        "y_pred = [1 if x>0.5 else 0 for x in y_pred]\r\n",
        "y_pred[:10]"
      ],
      "execution_count": 16,
      "outputs": [
        {
          "output_type": "execute_result",
          "data": {
            "text/plain": [
              "[0, 1, 1, 1, 1, 1, 1, 0, 1, 1]"
            ]
          },
          "metadata": {
            "tags": []
          },
          "execution_count": 16
        }
      ]
    },
    {
      "cell_type": "code",
      "metadata": {
        "colab": {
          "base_uri": "https://localhost:8080/",
          "height": 265
        },
        "id": "eq-PpEZ1Rcwn",
        "outputId": "6b4b1a06-fc64-470c-ece5-965157737eb5"
      },
      "source": [
        "# confusion matrix \r\n",
        "from sklearn.metrics import confusion_matrix\r\n",
        "import seaborn as sns\r\n",
        "\r\n",
        "cm = confusion_matrix(test_labels, y_pred)\r\n",
        "sns.heatmap(cm, annot=True, fmt=\"d\");"
      ],
      "execution_count": 17,
      "outputs": [
        {
          "output_type": "display_data",
          "data": {
            "image/png": "[encoded data removed]",
            "text/plain": [
              "<Figure size 432x288 with 2 Axes>"
            ]
          },
          "metadata": {
            "tags": [],
            "needs_background": "light"
          }
        }
      ]
    },
    {
      "cell_type": "code",
      "metadata": {
        "colab": {
          "base_uri": "https://localhost:8080/"
        },
        "id": "Li7nxjAtVirc",
        "outputId": "3ba725e1-7a55-4448-eefc-f60058b5324e"
      },
      "source": [
        "# classification report\r\n",
        "\r\n",
        "from sklearn.metrics import classification_report\r\n",
        "print(classification_report(test_labels, y_pred))"
      ],
      "execution_count": 21,
      "outputs": [
        {
          "output_type": "stream",
          "text": [
            "              precision    recall  f1-score   support\n",
            "\n",
            "           0       0.86      0.87      0.86     12500\n",
            "           1       0.87      0.86      0.86     12500\n",
            "\n",
            "    accuracy                           0.86     25000\n",
            "   macro avg       0.86      0.86      0.86     25000\n",
            "weighted avg       0.86      0.86      0.86     25000\n",
            "\n"
          ],
          "name": "stdout"
        }
      ]
    },
    {
      "cell_type": "code",
      "metadata": {
        "scrolled": true,
        "colab": {
          "base_uri": "https://localhost:8080/"
        },
        "id": "uDGIg7ToNal9",
        "outputId": "92ed430a-5929-41e5-fc53-00c830ef9b31"
      },
      "source": [
        "# prediction\n",
        "\n",
        "index = 435\n",
        "print(\"Review\")\n",
        "print(decode_review(test_data[index]))\n",
        "\n",
        "def prediction(actual,pred,index):\n",
        "  if actual[index]==1:\n",
        "      print(\"Actual :- Positive\")\n",
        "  else:\n",
        "      print(\"Actual :- Negative\")\n",
        "      \n",
        "  if pred[index]==1:\n",
        "      print(\"Predicted :- Positive\")\n",
        "  else:\n",
        "      print(\"Predicted :- Negative\")\n",
        "\n",
        "prediction(test_labels, y_pred, index)"
      ],
      "execution_count": 22,
      "outputs": [
        {
          "output_type": "stream",
          "text": [
            "Review\n",
            "<START> spoilers <UNK> br br where do i begin with just how silly this movie was <UNK> sized people living under the garden attacking residents of a big <UNK> when i first sat down to watch this movie i was unaware that the protagonists where not etc but 10 inch high <UNK> that looked mighty easy to kick hard and far i carried on watching it because i like to see movies through to the end even awful ones this movie was terrible my girlfriend who went to sleep inside the first ten minutes apart from finding it a good aid to sleep thought it was hilarious that i had bothered to watch it all br br tiny <UNK> even in large numbers the thought is silly i know are about as scary and menacing as flat <UNK> they only managed to trip one guy up and kill a cat before they were blown up the end i did mention it sucked right <PAD> <PAD> <PAD> <PAD> <PAD> <PAD> <PAD> <PAD> <PAD> <PAD> <PAD> <PAD> <PAD> <PAD> <PAD> <PAD> <PAD> <PAD> <PAD> <PAD> <PAD> <PAD> <PAD> <PAD> <PAD> <PAD> <PAD> <PAD> <PAD> <PAD> <PAD> <PAD> <PAD> <PAD> <PAD> <PAD> <PAD> <PAD> <PAD> <PAD> <PAD> <PAD> <PAD> <PAD> <PAD> <PAD> <PAD> <PAD> <PAD> <PAD> <PAD> <PAD> <PAD> <PAD> <PAD> <PAD> <PAD> <PAD> <PAD> <PAD> <PAD> <PAD> <PAD> <PAD> <PAD> <PAD> <PAD> <PAD> <PAD> <PAD> <PAD> <PAD> <PAD> <PAD> <PAD> <PAD> <PAD> <PAD> <PAD> <PAD> <PAD> <PAD> <PAD> <PAD> <PAD> <PAD> <PAD> <PAD> <PAD> <PAD> <PAD> <PAD> <PAD>\n",
            "Actual :- Negative\n",
            "Predicted :- Negative\n"
          ],
          "name": "stdout"
        }
      ]
    },
    {
      "cell_type": "markdown",
      "metadata": {
        "id": "O_ruUmoSWdji"
      },
      "source": [
        "# **---------------------------------Keep learning, Keep improving-------------------------------**"
      ]
    }
  ]
}