{
  "nbformat": 4,
  "nbformat_minor": 0,
  "metadata": {
    "colab": {
      "name": "image classification using cnn.ipynb",
      "provenance": [],
      "collapsed_sections": [],
      "toc_visible": true,
      "authorship_tag": "ABX9TyM4zYQraaLtHmwp8xuaAEIV"
    },
    "kernelspec": {
      "name": "python3",
      "display_name": "Python 3"
    },
    "accelerator": "GPU"
  },
  "cells": [
    {
      "cell_type": "markdown",
      "metadata": {
        "id": "DP8NGzxkiN47"
      },
      "source": [
        "# We will build a convolutional neural network for multiclass classification problem on the CIFAR10 dataset which contains images of 10 different classes  (\"airplane\", \"automobile\", \"bird\", \"cat\", \"deer\", \"dog\",\"frog\", \"horse\", \"ship\", \"truck\") of size (32,32,3)."
      ]
    },
    {
      "cell_type": "code",
      "metadata": {
        "id": "AD27DqQwNm_m"
      },
      "source": [
        "# import essential libraries\r\n",
        "\r\n",
        "import numpy as np \r\n",
        "import matplotlib.pyplot as plt\r\n",
        "import tensorflow as tf \r\n",
        "from tensorflow.keras import datasets"
      ],
      "execution_count": 79,
      "outputs": []
    },
    {
      "cell_type": "code",
      "metadata": {
        "id": "4h-ZjlMXN9sb"
      },
      "source": [
        "# load and split the data\r\n",
        "\r\n",
        "(X_train, y_train), (X_test, y_test) = datasets.cifar10.load_data()"
      ],
      "execution_count": 80,
      "outputs": []
    },
    {
      "cell_type": "code",
      "metadata": {
        "colab": {
          "base_uri": "https://localhost:8080/"
        },
        "id": "5HEjIg58OGnj",
        "outputId": "fdd6bdc9-40bd-481a-81c8-f54380f82d94"
      },
      "source": [
        "X_train.shape, X_test.shape, y_train.shape, y_test.shape"
      ],
      "execution_count": 81,
      "outputs": [
        {
          "output_type": "execute_result",
          "data": {
            "text/plain": [
              "((50000, 32, 32, 3), (10000, 32, 32, 3), (50000, 1), (10000, 1))"
            ]
          },
          "metadata": {
            "tags": []
          },
          "execution_count": 81
        }
      ]
    },
    {
      "cell_type": "code",
      "metadata": {
        "colab": {
          "base_uri": "https://localhost:8080/"
        },
        "id": "iqScnN3eOOZ7",
        "outputId": "a368fff2-847b-4e95-c2ad-ee9f21419c73"
      },
      "source": [
        "# Normalize all the data \r\n",
        "X_train = X_train/255\r\n",
        "X_test = X_test/255\r\n",
        "\r\n",
        "# converting labels array from 2d to 1d\r\n",
        "y_train = y_train.flatten()\r\n",
        "y_test = y_test.flatten()\r\n",
        "\r\n",
        "X_train.shape, X_test.shape, y_train.shape, y_test.shape"
      ],
      "execution_count": 82,
      "outputs": [
        {
          "output_type": "execute_result",
          "data": {
            "text/plain": [
              "((50000, 32, 32, 3), (10000, 32, 32, 3), (50000,), (10000,))"
            ]
          },
          "metadata": {
            "tags": []
          },
          "execution_count": 82
        }
      ]
    },
    {
      "cell_type": "code",
      "metadata": {
        "colab": {
          "base_uri": "https://localhost:8080/"
        },
        "id": "w__vrmuubUVI",
        "outputId": "369a0dd5-d866-4f7f-cd45-9596d740d853"
      },
      "source": [
        "# check how many targest we have\r\n",
        "\r\n",
        "np.unique(y_train)"
      ],
      "execution_count": 83,
      "outputs": [
        {
          "output_type": "execute_result",
          "data": {
            "text/plain": [
              "array([0, 1, 2, 3, 4, 5, 6, 7, 8, 9], dtype=uint8)"
            ]
          },
          "metadata": {
            "tags": []
          },
          "execution_count": 83
        }
      ]
    },
    {
      "cell_type": "code",
      "metadata": {
        "id": "0MWrhoGcPFsn"
      },
      "source": [
        "# create a list of all classes to map the integer labels\r\n",
        "\r\n",
        "classes = [\"airplane\",\"automobile\",\"bird\",\"cat\",\"deer\",\"dog\",\"frog\",\"horse\",\"ship\",\"truck\"]"
      ],
      "execution_count": 84,
      "outputs": []
    },
    {
      "cell_type": "code",
      "metadata": {
        "colab": {
          "base_uri": "https://localhost:8080/",
          "height": 226
        },
        "id": "QB1lIw7EOoAi",
        "outputId": "69731fbc-a3d3-43a5-c63a-8d64d82589dc"
      },
      "source": [
        "# function to show the image along with its label\r\n",
        "\r\n",
        "def show_image(X,y, index):\r\n",
        "  plt.figure(figsize=(15,3))\r\n",
        "  plt.imshow(X[index])\r\n",
        "  plt.xlabel(classes[y[index]])\r\n",
        "  plt.show()\r\n",
        "\r\n",
        "show_image(X_train, y_train,140)"
      ],
      "execution_count": 85,
      "outputs": [
        {
          "output_type": "display_data",
          "data": {
            "image/png": "[encoded data removed]",
            "text/plain": [
              "<Figure size 1080x216 with 1 Axes>"
            ]
          },
          "metadata": {
            "tags": [],
            "needs_background": "light"
          }
        }
      ]
    },
    {
      "cell_type": "code",
      "metadata": {
        "colab": {
          "base_uri": "https://localhost:8080/"
        },
        "id": "VfTyLHmpV05v",
        "outputId": "b55ecc49-1c3f-4b27-b8d9-0ad30ee9c0d6"
      },
      "source": [
        "# split training and validation data \r\n",
        "\r\n",
        "x_val = X_train[:10000]\r\n",
        "x_train = X_train[10000:]\r\n",
        "\r\n",
        "y_val = y_train[:10000]\r\n",
        "y_train = y_train[10000:]\r\n",
        "\r\n",
        "x_train.shape, x_val.shape, y_train.shape, y_val.shape"
      ],
      "execution_count": 86,
      "outputs": [
        {
          "output_type": "execute_result",
          "data": {
            "text/plain": [
              "((40000, 32, 32, 3), (10000, 32, 32, 3), (40000,), (10000,))"
            ]
          },
          "metadata": {
            "tags": []
          },
          "execution_count": 86
        }
      ]
    },
    {
      "cell_type": "code",
      "metadata": {
        "id": "3_WpkLseP-CG"
      },
      "source": [
        "# model building \r\n",
        "\r\n",
        "model = tf.keras.Sequential()\r\n",
        "# convlution+pooling layers \r\n",
        "model.add(tf.keras.layers.Conv2D(filters = 32, kernel_size=(3,3), activation=\"relu\", input_shape=(32,32,3)))\r\n",
        "model.add(tf.keras.layers.MaxPool2D(pool_size=(3,3)))\r\n",
        "model.add(tf.keras.layers.Conv2D(64, (2,2), activation=\"relu\"))\r\n",
        "model.add(tf.keras.layers.MaxPool2D(pool_size=(3,3)))\r\n",
        "\r\n",
        "# classification dense layers\r\n",
        "model.add(tf.keras.layers.Flatten())\r\n",
        "model.add(tf.keras.layers.Dense(128, activation=\"relu\"))\r\n",
        "model.add(tf.keras.layers.Dropout(0.4))\r\n",
        "model.add(tf.keras.layers.Dense(64, activation=\"relu\"))\r\n",
        "model.add(tf.keras.layers.Dropout(0.4))\r\n",
        "model.add(tf.keras.layers.Dense(10,activation=\"softmax\"))"
      ],
      "execution_count": 87,
      "outputs": []
    },
    {
      "cell_type": "code",
      "metadata": {
        "colab": {
          "base_uri": "https://localhost:8080/"
        },
        "id": "DRW6VILVRlbp",
        "outputId": "840dd5ca-9585-457d-8bb7-e75a43aff6db"
      },
      "source": [
        "# specify the loss, optimizer and metrics\r\n",
        "\r\n",
        "model.compile(loss= \"sparse_categorical_crossentropy\", optimizer = \"adam\", metrics=[\"accuracy\"])\r\n",
        "\r\n",
        "# At last train the model on training data\r\n",
        "model.fit(x_train, y_train, validation_data=(x_val, y_val), epochs=20, batch_size=128)"
      ],
      "execution_count": 88,
      "outputs": [
        {
          "output_type": "stream",
          "text": [
            "Epoch 1/20\n",
            "313/313 [==============================] - 2s 5ms/step - loss: 1.9114 - accuracy: 0.2801 - val_loss: 1.5328 - val_accuracy: 0.4417\n",
            "Epoch 2/20\n",
            "313/313 [==============================] - 1s 4ms/step - loss: 1.5272 - accuracy: 0.4397 - val_loss: 1.2981 - val_accuracy: 0.5286\n",
            "Epoch 3/20\n",
            "313/313 [==============================] - 1s 4ms/step - loss: 1.3747 - accuracy: 0.5045 - val_loss: 1.1939 - val_accuracy: 0.5746\n",
            "Epoch 4/20\n",
            "313/313 [==============================] - 1s 4ms/step - loss: 1.2827 - accuracy: 0.5411 - val_loss: 1.1255 - val_accuracy: 0.6026\n",
            "Epoch 5/20\n",
            "313/313 [==============================] - 1s 4ms/step - loss: 1.2217 - accuracy: 0.5666 - val_loss: 1.0900 - val_accuracy: 0.6207\n",
            "Epoch 6/20\n",
            "313/313 [==============================] - 1s 4ms/step - loss: 1.1628 - accuracy: 0.5919 - val_loss: 1.0395 - val_accuracy: 0.6374\n",
            "Epoch 7/20\n",
            "313/313 [==============================] - 1s 4ms/step - loss: 1.1159 - accuracy: 0.6133 - val_loss: 1.0569 - val_accuracy: 0.6235\n",
            "Epoch 8/20\n",
            "313/313 [==============================] - 1s 4ms/step - loss: 1.0779 - accuracy: 0.6270 - val_loss: 0.9832 - val_accuracy: 0.6547\n",
            "Epoch 9/20\n",
            "313/313 [==============================] - 1s 4ms/step - loss: 1.0370 - accuracy: 0.6419 - val_loss: 0.9658 - val_accuracy: 0.6593\n",
            "Epoch 10/20\n",
            "313/313 [==============================] - 1s 4ms/step - loss: 1.0139 - accuracy: 0.6484 - val_loss: 0.9396 - val_accuracy: 0.6697\n",
            "Epoch 11/20\n",
            "313/313 [==============================] - 1s 4ms/step - loss: 0.9810 - accuracy: 0.6597 - val_loss: 0.9188 - val_accuracy: 0.6793\n",
            "Epoch 12/20\n",
            "313/313 [==============================] - 1s 4ms/step - loss: 0.9596 - accuracy: 0.6715 - val_loss: 0.8892 - val_accuracy: 0.6919\n",
            "Epoch 13/20\n",
            "313/313 [==============================] - 1s 4ms/step - loss: 0.9335 - accuracy: 0.6806 - val_loss: 0.9236 - val_accuracy: 0.6816\n",
            "Epoch 14/20\n",
            "313/313 [==============================] - 1s 4ms/step - loss: 0.9162 - accuracy: 0.6868 - val_loss: 0.8758 - val_accuracy: 0.6954\n",
            "Epoch 15/20\n",
            "313/313 [==============================] - 1s 4ms/step - loss: 0.9066 - accuracy: 0.6903 - val_loss: 0.8833 - val_accuracy: 0.6939\n",
            "Epoch 16/20\n",
            "313/313 [==============================] - 1s 4ms/step - loss: 0.8770 - accuracy: 0.6997 - val_loss: 0.9079 - val_accuracy: 0.6857\n",
            "Epoch 17/20\n",
            "313/313 [==============================] - 1s 4ms/step - loss: 0.8622 - accuracy: 0.7046 - val_loss: 0.8674 - val_accuracy: 0.7002\n",
            "Epoch 18/20\n",
            "313/313 [==============================] - 1s 4ms/step - loss: 0.8503 - accuracy: 0.7118 - val_loss: 0.8284 - val_accuracy: 0.7139\n",
            "Epoch 19/20\n",
            "313/313 [==============================] - 1s 4ms/step - loss: 0.8260 - accuracy: 0.7178 - val_loss: 0.8246 - val_accuracy: 0.7178\n",
            "Epoch 20/20\n",
            "313/313 [==============================] - 1s 4ms/step - loss: 0.8203 - accuracy: 0.7213 - val_loss: 0.8410 - val_accuracy: 0.7091\n"
          ],
          "name": "stdout"
        },
        {
          "output_type": "execute_result",
          "data": {
            "text/plain": [
              "<tensorflow.python.keras.callbacks.History at 0x7f8b52a1f630>"
            ]
          },
          "metadata": {
            "tags": []
          },
          "execution_count": 88
        }
      ]
    },
    {
      "cell_type": "code",
      "metadata": {
        "colab": {
          "base_uri": "https://localhost:8080/"
        },
        "id": "nJ_dsyu6R_UI",
        "outputId": "a8e0336c-2b3f-4dec-9cb7-328290bee274"
      },
      "source": [
        "# let's evaluate the model accuracy and loss\r\n",
        "\r\n",
        "(loss, accuracy) = model.evaluate(X_test, y_test)\r\n",
        "print(\"Accuracy :-\", accuracy*100)\r\n",
        "print(\"Loss :-\", loss)"
      ],
      "execution_count": 110,
      "outputs": [
        {
          "output_type": "stream",
          "text": [
            "313/313 [==============================] - 1s 2ms/step - loss: 0.8426 - accuracy: 0.7158\n",
            "Accuracy :- 71.57999873161316\n",
            "Loss :- 0.8425572514533997\n"
          ],
          "name": "stdout"
        }
      ]
    },
    {
      "cell_type": "code",
      "metadata": {
        "colab": {
          "base_uri": "https://localhost:8080/"
        },
        "id": "alSQp-QITsO7",
        "outputId": "c35efdd3-0c48-4ce1-e121-dfa9c899268a"
      },
      "source": [
        "# model prediction and conversion in a single dimension array\r\n",
        "\r\n",
        "y_pred = model.predict(X_test)\r\n",
        "y_pred = [np.argmax(x) for x in y_pred]\r\n",
        "y_pred[:5]"
      ],
      "execution_count": 90,
      "outputs": [
        {
          "output_type": "execute_result",
          "data": {
            "text/plain": [
              "[3, 8, 1, 0, 6]"
            ]
          },
          "metadata": {
            "tags": []
          },
          "execution_count": 90
        }
      ]
    },
    {
      "cell_type": "code",
      "metadata": {
        "colab": {
          "base_uri": "https://localhost:8080/",
          "height": 1000
        },
        "id": "3uVE7CCxX1l4",
        "outputId": "7a7a54b8-37c6-4bf7-f953-adeb2ccdcd12"
      },
      "source": [
        "# function to print the image along with actual and predicted variable\r\n",
        "\r\n",
        "def prediction(X,y,index):\r\n",
        "  plt.figure(figsize=(3,4))\r\n",
        "  plt.imshow(X_test[index])\r\n",
        "  plt.xlabel(\"Actual :- \" + str(classes[y_test[index]]))\r\n",
        "  plt.title(\"Predicted :- \" + str(classes[y_pred[index]]))\r\n",
        "  plt.show()\r\n",
        "\r\n",
        "for i in range(26,31):\r\n",
        "  prediction(X_test, y_test, i)"
      ],
      "execution_count": 97,
      "outputs": [
        {
          "output_type": "display_data",
          "data": {
            "image/png": "[encoded data removed]",
            "text/plain": [
              "<Figure size 216x288 with 1 Axes>"
            ]
          },
          "metadata": {
            "tags": [],
            "needs_background": "light"
          }
        },
        {
          "output_type": "display_data",
          "data": {
            "image/png": "[encoded data removed]",
            "text/plain": [
              "<Figure size 216x288 with 1 Axes>"
            ]
          },
          "metadata": {
            "tags": [],
            "needs_background": "light"
          }
        },
        {
          "output_type": "display_data",
          "data": {
            "image/png": "[encoded data removed]",
            "text/plain": [
              "<Figure size 216x288 with 1 Axes>"
            ]
          },
          "metadata": {
            "tags": [],
            "needs_background": "light"
          }
        },
        {
          "output_type": "display_data",
          "data": {
            "image/png": "[encoded data removed]",
            "text/plain": [
              "<Figure size 216x288 with 1 Axes>"
            ]
          },
          "metadata": {
            "tags": [],
            "needs_background": "light"
          }
        },
        {
          "output_type": "display_data",
          "data": {
            "image/png": "[encoded data removed]",
            "text/plain": [
              "<Figure size 216x288 with 1 Axes>"
            ]
          },
          "metadata": {
            "tags": [],
            "needs_background": "light"
          }
        }
      ]
    },
    {
      "cell_type": "code",
      "metadata": {
        "colab": {
          "base_uri": "https://localhost:8080/"
        },
        "id": "tnn7lz1wXu7f",
        "outputId": "78f5158f-b34d-4709-836f-782436681630"
      },
      "source": [
        "# save the model\r\n",
        "model.save(\"cnn image classification\")"
      ],
      "execution_count": 106,
      "outputs": [
        {
          "output_type": "stream",
          "text": [
            "INFO:tensorflow:Assets written to: cnn image classification/assets\n"
          ],
          "name": "stdout"
        }
      ]
    },
    {
      "cell_type": "code",
      "metadata": {
        "id": "sZbCSnpZekPj"
      },
      "source": [
        "# load the model back\r\n",
        "\r\n",
        "loaded_model  = tf.keras.models.load_model(\"cnn image classification\")"
      ],
      "execution_count": 107,
      "outputs": []
    },
    {
      "cell_type": "code",
      "metadata": {
        "colab": {
          "base_uri": "https://localhost:8080/"
        },
        "id": "LWjrsU4_e2Uz",
        "outputId": "1c103b0a-4155-460b-d103-26f842e6b6bf"
      },
      "source": [
        "# compile the loaded model \r\n",
        "\r\n",
        "loaded_model.compile(loss=\"sparse_categorical_crossentropy\", optimizer=\"adam\", metrics=[\"accuracy\"])\r\n",
        "\r\n",
        "# evaluate the loaded model on test data\r\n",
        "\r\n",
        "loaded_model.evaluate(X_test, y_test)"
      ],
      "execution_count": 109,
      "outputs": [
        {
          "output_type": "stream",
          "text": [
            "313/313 [==============================] - 1s 2ms/step - loss: 0.8426 - accuracy: 0.7158\n"
          ],
          "name": "stdout"
        },
        {
          "output_type": "execute_result",
          "data": {
            "text/plain": [
              "[0.8425572514533997, 0.7157999873161316]"
            ]
          },
          "metadata": {
            "tags": []
          },
          "execution_count": 109
        }
      ]
    },
    {
      "cell_type": "markdown",
      "metadata": {
        "id": "jgKUWvt4hwgF"
      },
      "source": [
        "# **----------------------------------Keep learning Keep improving-------------------------------**"
      ]
    }
  ]
}